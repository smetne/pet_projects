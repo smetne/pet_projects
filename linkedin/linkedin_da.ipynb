{
 "cells": [
  {
   "cell_type": "markdown",
   "id": "e4aafc45",
   "metadata": {},
   "source": [
    "# Рынок вакансий для дата аналитика или BI аналитика джуна в Европе"
   ]
  },
  {
   "cell_type": "markdown",
   "id": "69f28a17",
   "metadata": {},
   "source": [
    "**Цель:** Визуализировать информацию о рынке вакансий для дата аналитика или BI аналитика джуна в Европе\n",
    "\n",
    "**Источник данных:** файл сsv c вакансиями за неделю, спарсенными с LinkedIn 07/09/2022"
   ]
  },
  {
   "cell_type": "markdown",
   "id": "1fd04f47",
   "metadata": {},
   "source": [
    "**Техническое задание:**\n",
    "1. Распарсить предоставленный csv файл с помощью BS 4, создав следующие признаки:\n",
    "- наименование вакансии\n",
    "- город\n",
    "- страна\n",
    "- тип занятости (online, hybride, on-site)\n",
    "- компания\n",
    "- размер компании (количество работников)\n",
    "- сфера деятельности компании\n",
    "- требуемые хард скилы\n",
    "- дата публикации вакансии\n",
    "- количество кандидатов на вакансию\n",
    "\n",
    "2. Подготовка данных к визуализации:\n",
    "- фильтрация датафрейма с оставлением только вакансий для аналитиков данных и BI аналитиков\n",
    "- удаление дубликатов\n",
    "- удаление ненужных атрибутов (признаков)\n",
    "\n",
    "3. Визуализация данных:\n",
    "* [LinkedIn DA vacancies](https://app.powerbi.com/view?r=eyJrIjoiNjRjNTUyMzItZWI5Yy00NzY2LWIxNGUtODA5M2RlODc3NWI3IiwidCI6IjY2NzE2NDY3LTQ3OGMtNDQ1MC1hNTEyLTIxYjlhMzQwZmEyNSIsImMiOjEwfQ%3D%3D&pageName=ReportSection)"
   ]
  },
  {
   "cell_type": "markdown",
   "id": "4adcd7fd",
   "metadata": {},
   "source": [
    "## Получение и обработка данных"
   ]
  },
  {
   "cell_type": "code",
   "execution_count": 2,
   "id": "09b55b82",
   "metadata": {},
   "outputs": [],
   "source": [
    "import pandas as pd\n",
    "from bs4 import BeautifulSoup\n",
    "import numpy as np\n",
    "from datetime import datetime, timedelta\n",
    "import warnings\n",
    "warnings.filterwarnings('ignore')"
   ]
  },
  {
   "cell_type": "code",
   "execution_count": 3,
   "id": "87518afd",
   "metadata": {},
   "outputs": [],
   "source": [
    "data = pd.read_csv('masterskaya_yandex_2022_09_07.csv')"
   ]
  },
  {
   "cell_type": "markdown",
   "id": "c890bf33",
   "metadata": {},
   "source": [
    "### Название вакансии"
   ]
  },
  {
   "cell_type": "code",
   "execution_count": 4,
   "id": "e9aa5085",
   "metadata": {},
   "outputs": [],
   "source": [
    "data['title'] = data['html'].apply(lambda x:  BeautifulSoup(x).find('h2').text.strip())"
   ]
  },
  {
   "cell_type": "code",
   "execution_count": 5,
   "id": "45da72cc",
   "metadata": {},
   "outputs": [
    {
     "data": {
      "text/plain": [
       "'Количество пропусков: 0'"
      ]
     },
     "execution_count": 5,
     "metadata": {},
     "output_type": "execute_result"
    }
   ],
   "source": [
    "f\"Количество пропусков: {data['title'].isna().sum()}\""
   ]
  },
  {
   "cell_type": "markdown",
   "id": "e41a176c",
   "metadata": {},
   "source": [
    "**Добавим ссылки**"
   ]
  },
  {
   "cell_type": "code",
   "execution_count": 6,
   "id": "84f520da",
   "metadata": {
    "scrolled": true
   },
   "outputs": [],
   "source": [
    "data['link'] = data['html'].apply(lambda x: \"https://linkedin.com\" + BeautifulSoup(x).find('a').get('href'))"
   ]
  },
  {
   "cell_type": "markdown",
   "id": "d90002b2",
   "metadata": {},
   "source": [
    "### Количество кандидатов"
   ]
  },
  {
   "cell_type": "code",
   "execution_count": 7,
   "id": "4a5377fb",
   "metadata": {},
   "outputs": [],
   "source": [
    "def get_candidats(cell):\n",
    "    try:\n",
    "        return BeautifulSoup(cell).find(\n",
    "            'span', class_='jobs-unified-top-card__applicant-count'\n",
    "        ).text.strip().replace(' applicants', '')\n",
    "    except:\n",
    "        return np.nan"
   ]
  },
  {
   "cell_type": "code",
   "execution_count": 8,
   "id": "0fc55d2d",
   "metadata": {},
   "outputs": [],
   "source": [
    "data['candidats'] = data['html'].apply(get_candidats)"
   ]
  },
  {
   "cell_type": "code",
   "execution_count": 9,
   "id": "679c9b50",
   "metadata": {
    "scrolled": true
   },
   "outputs": [],
   "source": [
    "data['candidats'] = pd.to_numeric(data['candidats'], errors='coerce')"
   ]
  },
  {
   "cell_type": "code",
   "execution_count": 10,
   "id": "ad5d2c5e",
   "metadata": {
    "scrolled": false
   },
   "outputs": [
    {
     "data": {
      "text/plain": [
       "'Количество пропусков: 125'"
      ]
     },
     "execution_count": 10,
     "metadata": {},
     "output_type": "execute_result"
    }
   ],
   "source": [
    "f\"Количество пропусков: {data['candidats'].isna().sum()}\""
   ]
  },
  {
   "cell_type": "markdown",
   "id": "27772638",
   "metadata": {},
   "source": [
    "В некоторых вакансиях не указано количество кандидатов, так как на момент парсинга еще никто не откликнулся."
   ]
  },
  {
   "cell_type": "markdown",
   "id": "4a003308",
   "metadata": {},
   "source": [
    "### Страна и город"
   ]
  },
  {
   "cell_type": "code",
   "execution_count": 11,
   "id": "93e37c19",
   "metadata": {},
   "outputs": [],
   "source": [
    "def get_geo(cell):\n",
    "    try:\n",
    "        return BeautifulSoup(cell).find('span', class_ = 'jobs-unified-top-card__bullet').text.strip()\n",
    "    except:\n",
    "        return np.nan"
   ]
  },
  {
   "cell_type": "code",
   "execution_count": 12,
   "id": "1046f7f9",
   "metadata": {},
   "outputs": [],
   "source": [
    "data['geo'] = data['html'].apply(get_geo)"
   ]
  },
  {
   "cell_type": "code",
   "execution_count": 13,
   "id": "e71506e9",
   "metadata": {},
   "outputs": [],
   "source": [
    "def get_city(cell):\n",
    "    if len(cell.split(',')) > 1:\n",
    "        return cell.split(',')[0].strip()\n",
    "    elif \"Metropolitan\" in cell or \"Greater\" in cell:\n",
    "        return cell.replace('Greater', '').replace('Metropolitan', '').replace('Area', '').replace('Region','').strip()\n",
    "    else:\n",
    "        return np.nan"
   ]
  },
  {
   "cell_type": "code",
   "execution_count": 14,
   "id": "4628a172",
   "metadata": {},
   "outputs": [],
   "source": [
    "data['city'] = data['geo'].apply(get_city)"
   ]
  },
  {
   "cell_type": "code",
   "execution_count": 15,
   "id": "47461861",
   "metadata": {},
   "outputs": [],
   "source": [
    "def get_country(cell):\n",
    "    if len(cell.split(',')) > 1:\n",
    "        return cell.split(',')[-1].strip()\n",
    "    elif \"Metropolitan\" in cell or \"Greater\" in cell or \"Region\" in cell:\n",
    "        return np.nan\n",
    "    else:\n",
    "        return cell"
   ]
  },
  {
   "cell_type": "code",
   "execution_count": 16,
   "id": "d41c21c4",
   "metadata": {},
   "outputs": [],
   "source": [
    "data['country'] = data['geo'].apply(get_country)"
   ]
  },
  {
   "cell_type": "code",
   "execution_count": 17,
   "id": "7f9c2fa4",
   "metadata": {
    "scrolled": false
   },
   "outputs": [
    {
     "data": {
      "text/plain": [
       "array(['France', 'Sweden', 'Belgium', 'Germany', nan, 'Hungary', 'Spain',\n",
       "       'Denmark', 'Gibraltar', 'Poland', 'United Kingdom', 'Finland',\n",
       "       'Switzerland', 'Netherlands', 'Italy', 'Norway', 'Czechia',\n",
       "       'Bulgaria', 'Slovakia', 'Portugal', 'Ireland', 'Luxembourg',\n",
       "       'Romania', 'Croatia', 'Slovenia', 'Greece', 'Austria', 'Estonia',\n",
       "       'Lithuania', 'Ukraine', 'Italy Metropolitan Area', 'Serbia'],\n",
       "      dtype=object)"
      ]
     },
     "execution_count": 17,
     "metadata": {},
     "output_type": "execute_result"
    }
   ],
   "source": [
    "data['country'].unique()"
   ]
  },
  {
   "cell_type": "markdown",
   "id": "d31c6b62",
   "metadata": {},
   "source": [
    "Поправим название Италии"
   ]
  },
  {
   "cell_type": "code",
   "execution_count": 18,
   "id": "05f2313d",
   "metadata": {
    "scrolled": false
   },
   "outputs": [],
   "source": [
    "data['country'] = data['country'].replace('Italy Metropolitan Area', 'Italy')"
   ]
  },
  {
   "cell_type": "code",
   "execution_count": 19,
   "id": "391a4393",
   "metadata": {},
   "outputs": [
    {
     "data": {
      "text/plain": [
       "'Количество пропусков: 46'"
      ]
     },
     "execution_count": 19,
     "metadata": {},
     "output_type": "execute_result"
    }
   ],
   "source": [
    "f\"Количество пропусков: {data['country'].isna().sum()}\""
   ]
  },
  {
   "cell_type": "markdown",
   "id": "892eb7ff",
   "metadata": {},
   "source": [
    "Посмотрим на пропуски: сгруппируем по городам записи, где отсутствует название страны."
   ]
  },
  {
   "cell_type": "code",
   "execution_count": 20,
   "id": "fea388eb",
   "metadata": {
    "scrolled": true
   },
   "outputs": [
    {
     "data": {
      "text/plain": [
       "city\n",
       "Antwerp       1\n",
       "Athens        1\n",
       "Barcelona     3\n",
       "Berlin        1\n",
       "Bologna       1\n",
       "Bruges        1\n",
       "Brussels      2\n",
       "Bucharest     1\n",
       "Cáceres       1\n",
       "Edinburgh     1\n",
       "Gdansk        1\n",
       "Genoa         1\n",
       "Ghent         2\n",
       "Gijón         2\n",
       "Grudziadz     1\n",
       "Kortrijk      1\n",
       "Liege         1\n",
       "Lodz          2\n",
       "Louvain       1\n",
       "Milan         1\n",
       "Modena        1\n",
       "Mons          1\n",
       "Namur         1\n",
       "Nantes        1\n",
       "Norrköping    1\n",
       "Paris         3\n",
       "Przemyśl      1\n",
       "Radom         1\n",
       "Rome          1\n",
       "Turin         1\n",
       "Valencia      1\n",
       "Warsaw        1\n",
       "Wroclaw       2\n",
       "Zamosc        1\n",
       "Zurich        1\n",
       "Name: city, dtype: int64"
      ]
     },
     "execution_count": 20,
     "metadata": {},
     "output_type": "execute_result"
    }
   ],
   "source": [
    "data[data['country'].isna()].groupby('city')['city'].count()"
   ]
  },
  {
   "cell_type": "markdown",
   "id": "e5be4a0c",
   "metadata": {},
   "source": [
    "Заполним пропуски."
   ]
  },
  {
   "cell_type": "code",
   "execution_count": 21,
   "id": "c39a2943",
   "metadata": {},
   "outputs": [],
   "source": [
    "cntrs = {'Poland':['Wroclaw','Gdansk','Grudziadz','Lodz','Przemyśl','Radom','Warsaw','Zamosc'], \n",
    "         'Italy':['Bologna','Genoa','Milan','Modena','Rome','Turin','Valencia'], \n",
    "         'Spain':['Barcelona','Cáceres','Gijón'],\n",
    "         'Belgium':['Antwerp','Bruges','Brussels','Ghent','Kortrijk','Liege','Louvain','Mons','Namur'],\n",
    "         'Greece': ['Athens'], 'Germany': ['Berlin'], 'Romania':['Bucharest'], 'Scotland':['Edinburgh'], \n",
    "         'France':['Nantes','Paris'], 'Sweden': ['Norrköping'], 'Switzerland':['Zurich']}"
   ]
  },
  {
   "cell_type": "code",
   "execution_count": 22,
   "id": "d1aad57d",
   "metadata": {
    "scrolled": true
   },
   "outputs": [],
   "source": [
    "def fill_counties(row):\n",
    "    if str(row['country']) == 'nan':\n",
    "        city = row['city']\n",
    "        for k, v in cntrs.items():\n",
    "            if city in v:\n",
    "                return k\n",
    "    return row['country']"
   ]
  },
  {
   "cell_type": "code",
   "execution_count": 23,
   "id": "3fcb227e",
   "metadata": {
    "scrolled": true
   },
   "outputs": [],
   "source": [
    "data['country'] = data.apply(fill_counties, axis=1)"
   ]
  },
  {
   "cell_type": "code",
   "execution_count": 24,
   "id": "b1ff0ea0",
   "metadata": {},
   "outputs": [
    {
     "data": {
      "text/html": [
       "<div>\n",
       "<style scoped>\n",
       "    .dataframe tbody tr th:only-of-type {\n",
       "        vertical-align: middle;\n",
       "    }\n",
       "\n",
       "    .dataframe tbody tr th {\n",
       "        vertical-align: top;\n",
       "    }\n",
       "\n",
       "    .dataframe thead th {\n",
       "        text-align: right;\n",
       "    }\n",
       "</style>\n",
       "<table border=\"1\" class=\"dataframe\">\n",
       "  <thead>\n",
       "    <tr style=\"text-align: right;\">\n",
       "      <th></th>\n",
       "      <th>Unnamed: 0</th>\n",
       "      <th>html</th>\n",
       "      <th>title</th>\n",
       "      <th>link</th>\n",
       "      <th>candidats</th>\n",
       "      <th>geo</th>\n",
       "      <th>city</th>\n",
       "      <th>country</th>\n",
       "    </tr>\n",
       "  </thead>\n",
       "  <tbody>\n",
       "    <tr>\n",
       "      <th>424</th>\n",
       "      <td>424</td>\n",
       "      <td>\\n  &lt;div&gt;\\n    &lt;div class=\"\\n        jobs-deta...</td>\n",
       "      <td>Speech Data Collection in Germany</td>\n",
       "      <td>https://linkedin.com/jobs/view/3247818801/?alt...</td>\n",
       "      <td>NaN</td>\n",
       "      <td>Cologne Bonn Region</td>\n",
       "      <td>NaN</td>\n",
       "      <td>NaN</td>\n",
       "    </tr>\n",
       "    <tr>\n",
       "      <th>671</th>\n",
       "      <td>671</td>\n",
       "      <td>\\n  &lt;div&gt;\\n    &lt;div class=\"\\n        jobs-deta...</td>\n",
       "      <td>Duales Masterstudium Applied Data Science (m/w/d)</td>\n",
       "      <td>https://linkedin.com/jobs/view/3195587554/?alt...</td>\n",
       "      <td>7.0</td>\n",
       "      <td>Hannover-Braunschweig-Göttingen-Wolfsburg Region</td>\n",
       "      <td>NaN</td>\n",
       "      <td>NaN</td>\n",
       "    </tr>\n",
       "  </tbody>\n",
       "</table>\n",
       "</div>"
      ],
      "text/plain": [
       "     Unnamed: 0                                               html  \\\n",
       "424         424  \\n  <div>\\n    <div class=\"\\n        jobs-deta...   \n",
       "671         671  \\n  <div>\\n    <div class=\"\\n        jobs-deta...   \n",
       "\n",
       "                                                 title  \\\n",
       "424                  Speech Data Collection in Germany   \n",
       "671  Duales Masterstudium Applied Data Science (m/w/d)   \n",
       "\n",
       "                                                  link  candidats  \\\n",
       "424  https://linkedin.com/jobs/view/3247818801/?alt...        NaN   \n",
       "671  https://linkedin.com/jobs/view/3195587554/?alt...        7.0   \n",
       "\n",
       "                                                  geo city country  \n",
       "424                               Cologne Bonn Region  NaN     NaN  \n",
       "671  Hannover-Braunschweig-Göttingen-Wolfsburg Region  NaN     NaN  "
      ]
     },
     "execution_count": 24,
     "metadata": {},
     "output_type": "execute_result"
    }
   ],
   "source": [
    "data[data['country'].isna()]"
   ]
  },
  {
   "cell_type": "markdown",
   "id": "53bd0962",
   "metadata": {},
   "source": [
    "Осталось два пропуска, заменим вручную."
   ]
  },
  {
   "cell_type": "code",
   "execution_count": 25,
   "id": "42042a64",
   "metadata": {},
   "outputs": [],
   "source": [
    "data['country'][424] = 'Germany'\n",
    "data['country'][671] = 'Germany'"
   ]
  },
  {
   "cell_type": "code",
   "execution_count": 26,
   "id": "c7d69b10",
   "metadata": {
    "scrolled": false
   },
   "outputs": [
    {
     "data": {
      "text/plain": [
       "'Количество пропусков: 64'"
      ]
     },
     "execution_count": 26,
     "metadata": {},
     "output_type": "execute_result"
    }
   ],
   "source": [
    "f\"Количество пропусков: {data['city'].isna().sum()}\""
   ]
  },
  {
   "cell_type": "code",
   "execution_count": 77,
   "id": "d20ac4c5",
   "metadata": {
    "scrolled": true
   },
   "outputs": [
    {
     "data": {
      "text/plain": [
       "workplace\n",
       "On-site     1\n",
       "Remote     62\n",
       "Name: link, dtype: int64"
      ]
     },
     "execution_count": 77,
     "metadata": {},
     "output_type": "execute_result"
    }
   ],
   "source": [
    "data[data['city'].isna()].groupby('workplace')['link'].count()"
   ]
  },
  {
   "cell_type": "code",
   "execution_count": 82,
   "id": "f8d518f4",
   "metadata": {},
   "outputs": [
    {
     "data": {
      "text/plain": [
       "671    https://linkedin.com/jobs/view/3195587554/?alt...\n",
       "Name: link, dtype: object"
      ]
     },
     "execution_count": 82,
     "metadata": {},
     "output_type": "execute_result"
    }
   ],
   "source": [
    "data[data['city'].isna()].query('workplace == \"On-site\"')['link']"
   ]
  },
  {
   "cell_type": "markdown",
   "id": "74c9f137",
   "metadata": {},
   "source": [
    "Некоторые вакансии с удаленкой не содержат город. В одной ваканчии он просто не указан, хотя позиция в офисе."
   ]
  },
  {
   "cell_type": "markdown",
   "id": "8c3a2b64",
   "metadata": {},
   "source": [
    "### Хард скилы"
   ]
  },
  {
   "cell_type": "code",
   "execution_count": 27,
   "id": "c1634119",
   "metadata": {},
   "outputs": [],
   "source": [
    "data['description'] = data['html'].apply(lambda x: BeautifulSoup(x).find('div', {'id':'job-details'}).text.strip())"
   ]
  },
  {
   "cell_type": "code",
   "execution_count": 28,
   "id": "aa93cb0a",
   "metadata": {},
   "outputs": [],
   "source": [
    "skills = (['datahub', 'api', 'github', 'google analytics', 'adobe analytics', 'ibm coremetrics', 'omniture'\n",
    "            'gitlab', 'erwin', 'hadoop', 'spark', 'hive'\n",
    "           'databricks', 'aws', 'gcp', 'azure','excel',\n",
    "            'redshift', 'bigquery', 'snowflake',  'hana'\n",
    "            'grafana', 'kantar', 'spss', \n",
    "           'asana', 'basecamp', 'jira', 'dbeaver','trello', 'miro', 'salesforce', \n",
    "           'rapidminer', 'thoughtspot',  'power point',  'docker', 'jenkins','integrate.io', 'talend', 'apache nifi','aws glue','pentaho','google data flow',\n",
    "             'azure data factory','xplenty','skyvia','iri voracity','xtract.io','dataddo', 'ssis',\n",
    "             'hevo data','informatica','oracle data integrator','k2view','cdata sync','querysurge', \n",
    "             'rivery', 'dbconvert', 'alooma', 'stitch', 'fivetran', 'matillion','streamsets','blendo',\n",
    "             'iri voracity','logstash', 'etleap', 'singer', 'apache camel','actian', 'airflow', 'luidgi', 'datastage',\n",
    "           'python', 'vba', 'scala', ' r ', 'java script', 'julia', 'sql', 'matlab', 'java', 'html', 'c++', 'sas',\n",
    "           'data studio', 'tableau', 'looker', 'powerbi', 'cognos', 'microstrategy', 'spotfire',\n",
    "             'sap business objects','microsoft sql server', 'oracle business intelligence', 'yellowfin',\n",
    "             'webfocus','sas visual analytics', 'targit', 'izenda',  'sisense', 'statsbot', 'panorama', 'inetsoft',\n",
    "             'birst', 'domo', 'metabase', 'redash', 'power bi', 'alteryx', 'dataiku', 'qlik sense', 'qlikview'\n",
    "          ])"
   ]
  },
  {
   "cell_type": "code",
   "execution_count": 29,
   "id": "382fad57",
   "metadata": {},
   "outputs": [],
   "source": [
    "def get_skills(cell):\n",
    "    list_skills = []\n",
    "    for skill in skills:\n",
    "        if skill in cell.lower().replace('powerbi', 'power bi'):\n",
    "            list_skills.append(skill)\n",
    "    return list_skills"
   ]
  },
  {
   "cell_type": "code",
   "execution_count": 30,
   "id": "3f310522",
   "metadata": {},
   "outputs": [],
   "source": [
    "data['skills'] = data.description.apply(get_skills)"
   ]
  },
  {
   "cell_type": "code",
   "execution_count": 36,
   "id": "1b5f1a79",
   "metadata": {
    "scrolled": true
   },
   "outputs": [
    {
     "name": "stdout",
     "output_type": "stream",
     "text": [
      "Количество пропусков: 153\n"
     ]
    }
   ],
   "source": [
    "nans = 0\n",
    "for row in data['skills']:\n",
    "    if len(row) < 1:\n",
    "        nans += 1\n",
    "print(f\"Количество пропусков: {nans}\")        \n",
    "    "
   ]
  },
  {
   "cell_type": "markdown",
   "id": "5432b88d",
   "metadata": {},
   "source": [
    "153 вакансии не имеют в описании требований к распространенным скиллам."
   ]
  },
  {
   "cell_type": "markdown",
   "id": "2612e68c",
   "metadata": {},
   "source": [
    "### Название компании"
   ]
  },
  {
   "cell_type": "code",
   "execution_count": 37,
   "id": "f4a754de",
   "metadata": {},
   "outputs": [],
   "source": [
    "def get_company(cell):\n",
    "    try:\n",
    "        return BeautifulSoup(cell).find('span', class_ = 'jobs-unified-top-card__company-name').text.strip()\n",
    "    except:\n",
    "        return np.nan"
   ]
  },
  {
   "cell_type": "code",
   "execution_count": 38,
   "id": "4cbef13a",
   "metadata": {},
   "outputs": [],
   "source": [
    "data['company'] = data['html'].apply(get_company)"
   ]
  },
  {
   "cell_type": "code",
   "execution_count": 39,
   "id": "4f1624a1",
   "metadata": {},
   "outputs": [
    {
     "data": {
      "text/plain": [
       "'Количество пропусков: 0'"
      ]
     },
     "execution_count": 39,
     "metadata": {},
     "output_type": "execute_result"
    }
   ],
   "source": [
    "f\"Количество пропусков: {data['company'].isna().sum()}\""
   ]
  },
  {
   "cell_type": "markdown",
   "id": "c0dedd4e",
   "metadata": {},
   "source": [
    "### Тип занятости"
   ]
  },
  {
   "cell_type": "code",
   "execution_count": 40,
   "id": "3604c68e",
   "metadata": {},
   "outputs": [],
   "source": [
    "def get_workplace(cell):\n",
    "    try:\n",
    "        return BeautifulSoup(cell).find('span', class_ = 'jobs-unified-top-card__workplace-type').text.strip()\n",
    "    except:\n",
    "        return np.nan"
   ]
  },
  {
   "cell_type": "code",
   "execution_count": 41,
   "id": "e99d4cb9",
   "metadata": {},
   "outputs": [],
   "source": [
    "data['workplace'] = data['html'].apply(get_workplace)"
   ]
  },
  {
   "cell_type": "code",
   "execution_count": 42,
   "id": "bd2a1453",
   "metadata": {},
   "outputs": [
    {
     "data": {
      "text/plain": [
       "array(['On-site', 'Remote', 'Hybrid', nan], dtype=object)"
      ]
     },
     "execution_count": 42,
     "metadata": {},
     "output_type": "execute_result"
    }
   ],
   "source": [
    "data['workplace'].unique()"
   ]
  },
  {
   "cell_type": "code",
   "execution_count": 43,
   "id": "c4eca116",
   "metadata": {
    "scrolled": true
   },
   "outputs": [
    {
     "data": {
      "text/plain": [
       "'Количество пропусков: 131'"
      ]
     },
     "execution_count": 43,
     "metadata": {},
     "output_type": "execute_result"
    }
   ],
   "source": [
    "f\"Количество пропусков: {data['workplace'].isna().sum()}\""
   ]
  },
  {
   "cell_type": "markdown",
   "id": "c1c8d720",
   "metadata": {},
   "source": [
    "Много пропусков, в некоторых вакансиях действительно не указан тип занятости."
   ]
  },
  {
   "cell_type": "markdown",
   "id": "a099cc51",
   "metadata": {},
   "source": [
    "### Дата публикации вакансии"
   ]
  },
  {
   "cell_type": "code",
   "execution_count": 44,
   "id": "c7d0f4f9",
   "metadata": {},
   "outputs": [],
   "source": [
    "def get_date(cell):\n",
    "    try:\n",
    "        return BeautifulSoup(cell).find('span', class_ = 'jobs-unified-top-card__posted-date').text.strip()\n",
    "    except:\n",
    "        return np.nan"
   ]
  },
  {
   "cell_type": "code",
   "execution_count": 45,
   "id": "b8701e23",
   "metadata": {},
   "outputs": [],
   "source": [
    "data['date'] = data['html'].apply(get_date)"
   ]
  },
  {
   "cell_type": "code",
   "execution_count": 46,
   "id": "77003129",
   "metadata": {},
   "outputs": [],
   "source": [
    "def date(cell):\n",
    "    if 'minutes' in cell:\n",
    "        for i in cell.split():\n",
    "            if i.isdigit():\n",
    "                cell = datetime(2022, 9, 7, 17) - timedelta(minutes=int(i))\n",
    "                return cell\n",
    "    if 'hours' in cell:\n",
    "        for i in cell.split():\n",
    "            if i.isdigit():\n",
    "                cell = datetime(2022, 9, 7, 17) - timedelta(hours=int(i))\n",
    "                return cell\n",
    "    else:\n",
    "        for i in cell.split():\n",
    "            if i.isdigit():\n",
    "                cell = datetime(2022, 9, 7, 17) - timedelta(days=int(i))\n",
    "                return cell"
   ]
  },
  {
   "cell_type": "code",
   "execution_count": 47,
   "id": "f6683411",
   "metadata": {
    "scrolled": true
   },
   "outputs": [],
   "source": [
    "data['date'] = data['date'].apply(date)"
   ]
  },
  {
   "cell_type": "code",
   "execution_count": 48,
   "id": "ecd7a49e",
   "metadata": {
    "scrolled": true
   },
   "outputs": [
    {
     "data": {
      "text/plain": [
       "'Количество пропусков: 0'"
      ]
     },
     "execution_count": 48,
     "metadata": {},
     "output_type": "execute_result"
    }
   ],
   "source": [
    "f\"Количество пропусков: {data['date'].isna().sum()}\""
   ]
  },
  {
   "cell_type": "code",
   "execution_count": 83,
   "id": "d030c1f7",
   "metadata": {},
   "outputs": [
    {
     "data": {
      "text/html": [
       "<div>\n",
       "<style scoped>\n",
       "    .dataframe tbody tr th:only-of-type {\n",
       "        vertical-align: middle;\n",
       "    }\n",
       "\n",
       "    .dataframe tbody tr th {\n",
       "        vertical-align: top;\n",
       "    }\n",
       "\n",
       "    .dataframe thead th {\n",
       "        text-align: right;\n",
       "    }\n",
       "</style>\n",
       "<table border=\"1\" class=\"dataframe\">\n",
       "  <thead>\n",
       "    <tr style=\"text-align: right;\">\n",
       "      <th></th>\n",
       "      <th>Unnamed: 0</th>\n",
       "      <th>html</th>\n",
       "      <th>title</th>\n",
       "      <th>link</th>\n",
       "      <th>candidats</th>\n",
       "      <th>geo</th>\n",
       "      <th>city</th>\n",
       "      <th>country</th>\n",
       "      <th>description</th>\n",
       "      <th>skills</th>\n",
       "      <th>company</th>\n",
       "      <th>workplace</th>\n",
       "      <th>date</th>\n",
       "      <th>get_size_sphere</th>\n",
       "      <th>size</th>\n",
       "      <th>sphere</th>\n",
       "    </tr>\n",
       "  </thead>\n",
       "  <tbody>\n",
       "  </tbody>\n",
       "</table>\n",
       "</div>"
      ],
      "text/plain": [
       "Empty DataFrame\n",
       "Columns: [Unnamed: 0, html, title, link, candidats, geo, city, country, description, skills, company, workplace, date, get_size_sphere, size, sphere]\n",
       "Index: []"
      ]
     },
     "execution_count": 83,
     "metadata": {},
     "output_type": "execute_result"
    }
   ],
   "source": [
    "data.query('date < \"2022-09-01 00:00\"|(date > \"2022-09-07 17:00\")')"
   ]
  },
  {
   "cell_type": "markdown",
   "id": "5f313d1e",
   "metadata": {},
   "source": [
    "Все вакансии попадают в диапазон 01.09.2022 - 07.09.2022"
   ]
  },
  {
   "cell_type": "markdown",
   "id": "91960bd8",
   "metadata": {},
   "source": [
    "### Размер компании (количество работников)"
   ]
  },
  {
   "cell_type": "code",
   "execution_count": 49,
   "id": "09012e9f",
   "metadata": {},
   "outputs": [],
   "source": [
    "def get_size_sphere(cell):\n",
    "    try:\n",
    "        return BeautifulSoup(cell).find('div', class_ = 'mt5 mb2').find_all('li')[1].text.strip()\n",
    "    except:\n",
    "        return np.nan"
   ]
  },
  {
   "cell_type": "code",
   "execution_count": 50,
   "id": "1634c1bb",
   "metadata": {},
   "outputs": [],
   "source": [
    "data['get_size_sphere'] = data['html'].apply(get_size_sphere)"
   ]
  },
  {
   "cell_type": "code",
   "execution_count": 51,
   "id": "6b566668",
   "metadata": {
    "scrolled": true
   },
   "outputs": [
    {
     "data": {
      "text/html": [
       "<div>\n",
       "<style scoped>\n",
       "    .dataframe tbody tr th:only-of-type {\n",
       "        vertical-align: middle;\n",
       "    }\n",
       "\n",
       "    .dataframe tbody tr th {\n",
       "        vertical-align: top;\n",
       "    }\n",
       "\n",
       "    .dataframe thead th {\n",
       "        text-align: right;\n",
       "    }\n",
       "</style>\n",
       "<table border=\"1\" class=\"dataframe\">\n",
       "  <thead>\n",
       "    <tr style=\"text-align: right;\">\n",
       "      <th></th>\n",
       "      <th>Unnamed: 0</th>\n",
       "      <th>html</th>\n",
       "      <th>title</th>\n",
       "      <th>link</th>\n",
       "      <th>candidats</th>\n",
       "      <th>geo</th>\n",
       "      <th>city</th>\n",
       "      <th>country</th>\n",
       "      <th>description</th>\n",
       "      <th>skills</th>\n",
       "      <th>company</th>\n",
       "      <th>workplace</th>\n",
       "      <th>date</th>\n",
       "      <th>get_size_sphere</th>\n",
       "    </tr>\n",
       "  </thead>\n",
       "  <tbody>\n",
       "    <tr>\n",
       "      <th>514</th>\n",
       "      <td>514</td>\n",
       "      <td>\\n  &lt;div&gt;\\n    &lt;div class=\"\\n        jobs-deta...</td>\n",
       "      <td>Customer Ledger Data Analyst</td>\n",
       "      <td>https://linkedin.com/jobs/view/3254329032/?alt...</td>\n",
       "      <td>NaN</td>\n",
       "      <td>Stockport, England, United Kingdom</td>\n",
       "      <td>Stockport</td>\n",
       "      <td>United Kingdom</td>\n",
       "      <td>Salary: £25,000, plus performance bonus and be...</td>\n",
       "      <td>[excel, ssis, vba]</td>\n",
       "      <td>Birnbach Communications</td>\n",
       "      <td>On-site</td>\n",
       "      <td>2022-09-06 17:00:00</td>\n",
       "      <td>NaN</td>\n",
       "    </tr>\n",
       "    <tr>\n",
       "      <th>771</th>\n",
       "      <td>771</td>\n",
       "      <td>\\n  &lt;div&gt;\\n    &lt;div class=\"\\n        jobs-deta...</td>\n",
       "      <td>Stage - Consultant(e) Data Engineer - Big Data...</td>\n",
       "      <td>https://linkedin.com/jobs/view/3241983304/?alt...</td>\n",
       "      <td>NaN</td>\n",
       "      <td>Toulouse, Occitanie, France</td>\n",
       "      <td>Toulouse</td>\n",
       "      <td>France</td>\n",
       "      <td></td>\n",
       "      <td>[]</td>\n",
       "      <td>Avanade</td>\n",
       "      <td>NaN</td>\n",
       "      <td>2022-09-01 17:00:00</td>\n",
       "      <td>NaN</td>\n",
       "    </tr>\n",
       "  </tbody>\n",
       "</table>\n",
       "</div>"
      ],
      "text/plain": [
       "     Unnamed: 0                                               html  \\\n",
       "514         514  \\n  <div>\\n    <div class=\"\\n        jobs-deta...   \n",
       "771         771  \\n  <div>\\n    <div class=\"\\n        jobs-deta...   \n",
       "\n",
       "                                                 title  \\\n",
       "514                       Customer Ledger Data Analyst   \n",
       "771  Stage - Consultant(e) Data Engineer - Big Data...   \n",
       "\n",
       "                                                  link  candidats  \\\n",
       "514  https://linkedin.com/jobs/view/3254329032/?alt...        NaN   \n",
       "771  https://linkedin.com/jobs/view/3241983304/?alt...        NaN   \n",
       "\n",
       "                                    geo       city         country  \\\n",
       "514  Stockport, England, United Kingdom  Stockport  United Kingdom   \n",
       "771         Toulouse, Occitanie, France   Toulouse          France   \n",
       "\n",
       "                                           description              skills  \\\n",
       "514  Salary: £25,000, plus performance bonus and be...  [excel, ssis, vba]   \n",
       "771                                                                     []   \n",
       "\n",
       "                     company workplace                date get_size_sphere  \n",
       "514  Birnbach Communications   On-site 2022-09-06 17:00:00             NaN  \n",
       "771                  Avanade       NaN 2022-09-01 17:00:00             NaN  "
      ]
     },
     "execution_count": 51,
     "metadata": {},
     "output_type": "execute_result"
    }
   ],
   "source": [
    "data[data['get_size_sphere'].isna()]"
   ]
  },
  {
   "cell_type": "markdown",
   "id": "68b35f3c",
   "metadata": {},
   "source": [
    "Есть два пропуска, заменим вручную."
   ]
  },
  {
   "cell_type": "code",
   "execution_count": 52,
   "id": "dff3b866",
   "metadata": {
    "scrolled": true
   },
   "outputs": [],
   "source": [
    "data['get_size_sphere'][514] = '1-10 employees · Public Relations and Communications Services'\n",
    "data['get_size_sphere'][771] = '10,001+ employees · IT Services and IT Consulting'"
   ]
  },
  {
   "cell_type": "markdown",
   "id": "471542e2",
   "metadata": {},
   "source": [
    "Добавим столбец с размером"
   ]
  },
  {
   "cell_type": "code",
   "execution_count": 53,
   "id": "37b8520f",
   "metadata": {},
   "outputs": [],
   "source": [
    "def get_size(cell):\n",
    "    if 'employees' in cell:\n",
    "        cell = cell.partition(' employees')[0].replace(',', '')\n",
    "        return cell \n",
    "    else:\n",
    "        return np.nan"
   ]
  },
  {
   "cell_type": "code",
   "execution_count": 54,
   "id": "93328bbd",
   "metadata": {},
   "outputs": [],
   "source": [
    "data['size'] = data['get_size_sphere'].apply(get_size)"
   ]
  },
  {
   "cell_type": "code",
   "execution_count": 55,
   "id": "cb5cb2aa",
   "metadata": {
    "scrolled": true
   },
   "outputs": [
    {
     "data": {
      "text/plain": [
       "'Количество пропусков: 14'"
      ]
     },
     "execution_count": 55,
     "metadata": {},
     "output_type": "execute_result"
    }
   ],
   "source": [
    "f\"Количество пропусков: {data['size'].isna().sum()}\""
   ]
  },
  {
   "cell_type": "code",
   "execution_count": 85,
   "id": "1213a8bd",
   "metadata": {
    "scrolled": true
   },
   "outputs": [
    {
     "data": {
      "text/plain": [
       "65     https://linkedin.com/jobs/view/3256339057/?alt...\n",
       "247    https://linkedin.com/jobs/view/3257346745/?alt...\n",
       "299    https://linkedin.com/jobs/view/3251175567/?alt...\n",
       "364    https://linkedin.com/jobs/view/3254677314/?alt...\n",
       "382    https://linkedin.com/jobs/view/3249619400/?alt...\n",
       "400    https://linkedin.com/jobs/view/3247310439/?alt...\n",
       "415    https://linkedin.com/jobs/view/3254305280/?alt...\n",
       "526    https://linkedin.com/jobs/view/3249116636/?alt...\n",
       "533    https://linkedin.com/jobs/view/3249828610/?alt...\n",
       "545    https://linkedin.com/jobs/view/3249114970/?alt...\n",
       "557    https://linkedin.com/jobs/view/3249913331/?alt...\n",
       "607    https://linkedin.com/jobs/view/3247334292/?alt...\n",
       "707    https://linkedin.com/jobs/view/3247325914/?alt...\n",
       "765    https://linkedin.com/jobs/view/3249983776/?alt...\n",
       "Name: link, dtype: object"
      ]
     },
     "execution_count": 85,
     "metadata": {},
     "output_type": "execute_result"
    }
   ],
   "source": [
    "data[data['size'].isna()]['link']"
   ]
  },
  {
   "cell_type": "markdown",
   "id": "3946a5d0",
   "metadata": {},
   "source": [
    "В вакансиях рекрутинговых агенств и некоторых компаний не указан размер компаний, пропусков немного, это нормально."
   ]
  },
  {
   "cell_type": "markdown",
   "id": "48432156",
   "metadata": {},
   "source": [
    "### Сфера деятельности компании"
   ]
  },
  {
   "cell_type": "code",
   "execution_count": 56,
   "id": "6f638f06",
   "metadata": {},
   "outputs": [],
   "source": [
    "def get_sphere(cell):\n",
    "    if 'Premium' in cell:\n",
    "        return np.nan\n",
    "    if ('employees' in cell) and ('·' not in cell):\n",
    "        return np.nan\n",
    "    if '·' in cell:\n",
    "        cell = cell.partition('· ')[2]\n",
    "        return cell\n",
    "    else:\n",
    "        return cell"
   ]
  },
  {
   "cell_type": "code",
   "execution_count": 57,
   "id": "43a63b95",
   "metadata": {},
   "outputs": [],
   "source": [
    "data['sphere'] = data['get_size_sphere'].apply(get_sphere)"
   ]
  },
  {
   "cell_type": "code",
   "execution_count": 58,
   "id": "2d595275",
   "metadata": {
    "scrolled": true
   },
   "outputs": [
    {
     "data": {
      "text/plain": [
       "'Количество пропусков: 29'"
      ]
     },
     "execution_count": 58,
     "metadata": {},
     "output_type": "execute_result"
    }
   ],
   "source": [
    "f\"Количество пропусков: {data['sphere'].isna().sum()}\""
   ]
  },
  {
   "cell_type": "code",
   "execution_count": 59,
   "id": "80b12916",
   "metadata": {
    "scrolled": true
   },
   "outputs": [
    {
     "name": "stdout",
     "output_type": "stream",
     "text": [
      "<class 'pandas.core.frame.DataFrame'>\n",
      "RangeIndex: 772 entries, 0 to 771\n",
      "Data columns (total 16 columns):\n",
      " #   Column           Non-Null Count  Dtype         \n",
      "---  ------           --------------  -----         \n",
      " 0   Unnamed: 0       772 non-null    int64         \n",
      " 1   html             772 non-null    object        \n",
      " 2   title            772 non-null    object        \n",
      " 3   link             772 non-null    object        \n",
      " 4   candidats        647 non-null    float64       \n",
      " 5   geo              772 non-null    object        \n",
      " 6   city             708 non-null    object        \n",
      " 7   country          772 non-null    object        \n",
      " 8   description      772 non-null    object        \n",
      " 9   skills           772 non-null    object        \n",
      " 10  company          772 non-null    object        \n",
      " 11  workplace        641 non-null    object        \n",
      " 12  date             772 non-null    datetime64[ns]\n",
      " 13  get_size_sphere  772 non-null    object        \n",
      " 14  size             758 non-null    object        \n",
      " 15  sphere           743 non-null    object        \n",
      "dtypes: datetime64[ns](1), float64(1), int64(1), object(13)\n",
      "memory usage: 96.6+ KB\n"
     ]
    }
   ],
   "source": [
    "data.info()"
   ]
  },
  {
   "cell_type": "markdown",
   "id": "e30a7b73",
   "metadata": {},
   "source": [
    "Распарсили все необходимые данные, по-возможности избавились от пропусков в данных."
   ]
  },
  {
   "cell_type": "markdown",
   "id": "a2286761",
   "metadata": {},
   "source": [
    "## Подготовка данных к визуализации"
   ]
  },
  {
   "cell_type": "markdown",
   "id": "5d5ac783",
   "metadata": {},
   "source": [
    "**Удалим ненужные столбцы**"
   ]
  },
  {
   "cell_type": "code",
   "execution_count": 60,
   "id": "41053045",
   "metadata": {},
   "outputs": [
    {
     "data": {
      "text/plain": [
       "Index(['Unnamed: 0', 'html', 'title', 'link', 'candidats', 'geo', 'city',\n",
       "       'country', 'description', 'skills', 'company', 'workplace', 'date',\n",
       "       'get_size_sphere', 'size', 'sphere'],\n",
       "      dtype='object')"
      ]
     },
     "execution_count": 60,
     "metadata": {},
     "output_type": "execute_result"
    }
   ],
   "source": [
    "data.columns"
   ]
  },
  {
   "cell_type": "code",
   "execution_count": 61,
   "id": "3779d305",
   "metadata": {},
   "outputs": [],
   "source": [
    "clear_data = data.drop(['Unnamed: 0', 'html', 'geo', 'description', 'get_size_sphere'], axis=1)"
   ]
  },
  {
   "cell_type": "markdown",
   "id": "2106f73f",
   "metadata": {},
   "source": [
    "**Фильтрация вакансий**"
   ]
  },
  {
   "cell_type": "code",
   "execution_count": 62,
   "id": "dc264cbf",
   "metadata": {},
   "outputs": [],
   "source": [
    "clear_data = clear_data.query(\n",
    "    'title.str.contains(\"Analy\", case=False) & (title.str.contains(\"Modelling|Engineer|Systems|Architect\", case=False)==False)'\n",
    ")"
   ]
  },
  {
   "cell_type": "markdown",
   "id": "29e920ae",
   "metadata": {},
   "source": [
    "Для удобства работы со скиллами разобьем вакансии по скиллам (появятся дубли вакансий по одному скиллу в записи)"
   ]
  },
  {
   "cell_type": "code",
   "execution_count": 63,
   "id": "c4b81519",
   "metadata": {},
   "outputs": [],
   "source": [
    "clear_data = clear_data.explode('skills')"
   ]
  },
  {
   "cell_type": "markdown",
   "id": "421b9fff",
   "metadata": {},
   "source": [
    "**Поиск дубликатов**"
   ]
  },
  {
   "cell_type": "markdown",
   "id": "ffc5b3a2",
   "metadata": {},
   "source": [
    "Для верности посмотрим дубликаты по ссылкам (для каждой вакансии она точно уникальная) в неочищенных данных."
   ]
  },
  {
   "cell_type": "code",
   "execution_count": 64,
   "id": "c02362ea",
   "metadata": {
    "scrolled": true
   },
   "outputs": [
    {
     "data": {
      "text/html": [
       "<div>\n",
       "<style scoped>\n",
       "    .dataframe tbody tr th:only-of-type {\n",
       "        vertical-align: middle;\n",
       "    }\n",
       "\n",
       "    .dataframe tbody tr th {\n",
       "        vertical-align: top;\n",
       "    }\n",
       "\n",
       "    .dataframe thead th {\n",
       "        text-align: right;\n",
       "    }\n",
       "</style>\n",
       "<table border=\"1\" class=\"dataframe\">\n",
       "  <thead>\n",
       "    <tr style=\"text-align: right;\">\n",
       "      <th></th>\n",
       "      <th>Unnamed: 0</th>\n",
       "      <th>html</th>\n",
       "      <th>title</th>\n",
       "      <th>link</th>\n",
       "      <th>candidats</th>\n",
       "      <th>geo</th>\n",
       "      <th>city</th>\n",
       "      <th>country</th>\n",
       "      <th>description</th>\n",
       "      <th>skills</th>\n",
       "      <th>company</th>\n",
       "      <th>workplace</th>\n",
       "      <th>date</th>\n",
       "      <th>get_size_sphere</th>\n",
       "      <th>size</th>\n",
       "      <th>sphere</th>\n",
       "    </tr>\n",
       "  </thead>\n",
       "  <tbody>\n",
       "  </tbody>\n",
       "</table>\n",
       "</div>"
      ],
      "text/plain": [
       "Empty DataFrame\n",
       "Columns: [Unnamed: 0, html, title, link, candidats, geo, city, country, description, skills, company, workplace, date, get_size_sphere, size, sphere]\n",
       "Index: []"
      ]
     },
     "execution_count": 64,
     "metadata": {},
     "output_type": "execute_result"
    }
   ],
   "source": [
    "data[data['link'].duplicated()]"
   ]
  },
  {
   "cell_type": "markdown",
   "id": "737dd893",
   "metadata": {},
   "source": [
    "Дублей нет"
   ]
  },
  {
   "cell_type": "code",
   "execution_count": 65,
   "id": "b340c07d",
   "metadata": {},
   "outputs": [
    {
     "data": {
      "text/html": [
       "<div>\n",
       "<style scoped>\n",
       "    .dataframe tbody tr th:only-of-type {\n",
       "        vertical-align: middle;\n",
       "    }\n",
       "\n",
       "    .dataframe tbody tr th {\n",
       "        vertical-align: top;\n",
       "    }\n",
       "\n",
       "    .dataframe thead th {\n",
       "        text-align: right;\n",
       "    }\n",
       "</style>\n",
       "<table border=\"1\" class=\"dataframe\">\n",
       "  <thead>\n",
       "    <tr style=\"text-align: right;\">\n",
       "      <th></th>\n",
       "      <th>title</th>\n",
       "      <th>link</th>\n",
       "      <th>candidats</th>\n",
       "      <th>city</th>\n",
       "      <th>country</th>\n",
       "      <th>skills</th>\n",
       "      <th>company</th>\n",
       "      <th>workplace</th>\n",
       "      <th>date</th>\n",
       "      <th>size</th>\n",
       "      <th>sphere</th>\n",
       "    </tr>\n",
       "  </thead>\n",
       "  <tbody>\n",
       "  </tbody>\n",
       "</table>\n",
       "</div>"
      ],
      "text/plain": [
       "Empty DataFrame\n",
       "Columns: [title, link, candidats, city, country, skills, company, workplace, date, size, sphere]\n",
       "Index: []"
      ]
     },
     "execution_count": 65,
     "metadata": {},
     "output_type": "execute_result"
    }
   ],
   "source": [
    "clear_data[clear_data.duplicated()]"
   ]
  },
  {
   "cell_type": "markdown",
   "id": "7010c6e8",
   "metadata": {},
   "source": [
    "Логично, что и тут дублей нет"
   ]
  },
  {
   "cell_type": "markdown",
   "id": "e11c8fd7",
   "metadata": {},
   "source": [
    "**Итоговые данные**"
   ]
  },
  {
   "cell_type": "code",
   "execution_count": 66,
   "id": "4853de90",
   "metadata": {
    "scrolled": true
   },
   "outputs": [
    {
     "data": {
      "text/plain": [
       "(974, 11)"
      ]
     },
     "execution_count": 66,
     "metadata": {},
     "output_type": "execute_result"
    }
   ],
   "source": [
    "clear_data.shape"
   ]
  },
  {
   "cell_type": "markdown",
   "id": "dfc53a59",
   "metadata": {},
   "source": [
    "Получилось 974 записи. Помним, что одна вакансия разбита на несколько записей по одному хард скиллу из списка скиллов."
   ]
  },
  {
   "cell_type": "code",
   "execution_count": 67,
   "id": "c862a441",
   "metadata": {
    "scrolled": true
   },
   "outputs": [
    {
     "name": "stdout",
     "output_type": "stream",
     "text": [
      "Всего уникальных вакансий в датафрейме: 356\n"
     ]
    }
   ],
   "source": [
    "print(f'Всего уникальных вакансий в датафрейме: {clear_data[\"link\"].nunique()}')"
   ]
  },
  {
   "cell_type": "code",
   "execution_count": 68,
   "id": "b750f068",
   "metadata": {},
   "outputs": [],
   "source": [
    "clear_data.to_csv('linkedin_da.csv', index = False)"
   ]
  },
  {
   "cell_type": "code",
   "execution_count": null,
   "id": "b86e9dff",
   "metadata": {},
   "outputs": [],
   "source": []
  }
 ],
 "metadata": {
  "kernelspec": {
   "display_name": "Python 3 (ipykernel)",
   "language": "python",
   "name": "python3"
  },
  "language_info": {
   "codemirror_mode": {
    "name": "ipython",
    "version": 3
   },
   "file_extension": ".py",
   "mimetype": "text/x-python",
   "name": "python",
   "nbconvert_exporter": "python",
   "pygments_lexer": "ipython3",
   "version": "3.9.12"
  },
  "toc": {
   "base_numbering": 1,
   "nav_menu": {},
   "number_sections": true,
   "sideBar": true,
   "skip_h1_title": true,
   "title_cell": "Table of Contents",
   "title_sidebar": "Contents",
   "toc_cell": false,
   "toc_position": {},
   "toc_section_display": true,
   "toc_window_display": true
  }
 },
 "nbformat": 4,
 "nbformat_minor": 5
}
